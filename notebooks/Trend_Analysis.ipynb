{
 "cells": [
  {
   "cell_type": "code",
   "execution_count": null,
   "metadata": {},
   "outputs": [],
   "source": [
    "from src.trend_analysis import calculate_year_over_year_growth\n",
    "\n",
    "financial_data = data[\"Income Statement\"]\n",
    "growth = calculate_year_over_year_growth(financial_data, \"Revenue\")\n",
    "print(\"Year-over-Year Growth:\")\n",
    "print(growth)\n"
   ]
  }
 ],
 "metadata": {
  "language_info": {
   "name": "python"
  }
 },
 "nbformat": 4,
 "nbformat_minor": 2
}
