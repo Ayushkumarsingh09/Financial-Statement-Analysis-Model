{
 "cells": [
  {
   "cell_type": "code",
   "execution_count": null,
   "metadata": {},
   "outputs": [],
   "source": [
    "# Example code snippet\n",
    "import pandas as pd\n",
    "\n",
    "from src.data_ingestion import load_financial_statements\n",
    "\n",
    "data = load_financial_statements(\"data/inputs/financial_statements.xlsx\")\n",
    "for sheet, df in data.items():\n",
    "    print(f\"Sheet: {sheet}\")\n",
    "    display(df.head())\n"
   ]
  }
 ],
 "metadata": {
  "language_info": {
   "name": "python"
  }
 },
 "nbformat": 4,
 "nbformat_minor": 2
}
