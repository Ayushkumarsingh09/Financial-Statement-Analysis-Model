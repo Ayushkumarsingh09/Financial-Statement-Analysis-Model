{
 "cells": [
  {
   "cell_type": "code",
   "execution_count": null,
   "metadata": {},
   "outputs": [],
   "source": [
    "from src.ratio_analysis import calculate_profitability_ratios, calculate_liquidity_ratios\n",
    "\n",
    "income_statement = data[\"Income Statement\"]\n",
    "balance_sheet = data[\"Balance Sheet\"]\n",
    "\n",
    "profitability_ratios = calculate_profitability_ratios(income_statement, balance_sheet)\n",
    "liquidity_ratios = calculate_liquidity_ratios(balance_sheet)\n",
    "\n",
    "print(\"Profitability Ratios:\", profitability_ratios)\n",
    "print(\"Liquidity Ratios:\", liquidity_ratios)\n"
   ]
  }
 ],
 "metadata": {
  "language_info": {
   "name": "python"
  }
 },
 "nbformat": 4,
 "nbformat_minor": 2
}
